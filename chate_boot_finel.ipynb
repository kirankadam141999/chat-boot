{
 "cells": [
  {
   "cell_type": "code",
   "execution_count": 15,
   "id": "909079e6",
   "metadata": {},
   "outputs": [
    {
     "name": "stdout",
     "output_type": "stream",
     "text": [
      "------------------------------------------Wellcom to banking Chateboot----------------------------------------------\n",
      "Please Enter your name :kiran kadam\n",
      "\n",
      ":::---:::---:::---:::---Good Night \u001b[1mKIRAN KADAM\u001b[0m sir :):::---:::---:::---:::---\n",
      "\n",
      "\n",
      "::::::::::::::::::::::::::::::This below is our primery Service:::::::::::::::::::::::::::::::::::::::::::\n",
      "\n",
      "ACCOUNT\n",
      "CARD\n",
      "\n",
      "Which Servie you needaccount\n",
      "\n",
      "::::::::::::::::::::::::::::::This below is our Secondary Service :::::::::::::::::::::::::::::::::::::::\n",
      "\n",
      "CURRENT ACCOUNT\n",
      "SEAVING ACCOUNT\n",
      "WOMENS ACCOUNT\n",
      "\n",
      "Which Service you need: current account\n",
      "---------------------------------------------------------------------------------------------------------------\n",
      "\n",
      "This is link regrading to your requst \n",
      "\n",
      "https://sbi.co.in/web/personal-banking/accounts/current-accounts\n",
      "https://www.axisbank.com/business-banking/current-account\n"
     ]
    }
   ],
   "source": [
    "from datetime import datetime\n",
    "from datetime import datetime \n",
    "from googlesearch import search\n",
    "bank={\n",
    "    \"ACCOUNT\":['CURRENT ACCOUNT','SEAVING ACCOUNT','WOMENS ACCOUNT'],\n",
    "    \"CARD\":['DEBIT CARD','CREDIT CARD']\n",
    "}\n",
    "\n",
    "\n",
    "def geting_name():\n",
    "    user=input(\"Please Enter your name :\")\n",
    "    return user\n",
    "\n",
    "def greting(n):\n",
    "    \n",
    "    now = datetime.now()\n",
    "    current_time=int(now.strftime(\"%H\"))\n",
    "    \n",
    "    if(current_time<12):\n",
    "        print(\"\\n:::---:::---:::---:::---Good Morining\",'\\033[1m' +n.upper()+'\\033[0m',\"sir :):::---:::---:::---:::---\\n\")\n",
    "        showpri()\n",
    "        \n",
    "    if(current_time>12 and current_time<17):\n",
    "        print(\"\\n:::---:::---:::---:::---Good Afternon\",'\\033[1m' +n.upper()+'\\033[0m',\"sir :):::---:::---:::---:::---\\n\")\n",
    "\n",
    "        showpri()\n",
    "    if(current_time>17 and current_time<19):\n",
    "        print(\"\\n:::---:::---:::---:::---Good Evening\",'\\033[1m' +n.upper()+'\\033[0m',\"sir :):::---:::---:::---:::---\\n\")\n",
    "\n",
    "        showpri()\n",
    "    if(current_time>=19 and current_time<24):\n",
    "        print(\"\\n:::---:::---:::---:::---Good Night\",'\\033[1m' +n.upper()+'\\033[0m',\"sir :):::---:::---:::---:::---\\n\")\n",
    "\n",
    "        showpri()\n",
    "    \n",
    "def showpri():\n",
    "\n",
    "    print(\"\\n::::::::::::::::::::::::::::::This below is our primery Service:::::::::::::::::::::::::::::::::::::::::::\\n\")\n",
    "    for i in bank:\n",
    "        print(i)\n",
    "    persting=input(\"\\nWhich Servie you need\").upper()\n",
    "    if(persting in bank):\n",
    "        showSer(persting)\n",
    "    else:\n",
    "        print(\"not valid input\")\n",
    "        \n",
    "            \n",
    "def showSer(val):\n",
    "    print(\"\\n::::::::::::::::::::::::::::::This below is our Secondary Service :::::::::::::::::::::::::::::::::::::::\\n\")\n",
    "    for i in bank[val]:\n",
    "        print(i)\n",
    "    secser=input(\"\\nWhich Service you need: \").upper()\n",
    "    if(secser in bank[val]):\n",
    "        googelser(secser)\n",
    "    else:\n",
    "        print(\"not valid input\")\n",
    "\n",
    "                \n",
    "def googelser(ser):\n",
    "    print(\"---------------------------------------------------------------------------------------------------------------\")\n",
    "    print(\"\\nThis is link regrading to your requst \\n\")\n",
    "    for i in search(ser, start=2, stop=2, pause=2):\n",
    "        print(i)\n",
    "        \n",
    "        \n",
    "print(\"------------------------------------------Wellcom to banking Chateboot----------------------------------------------\")\n",
    "\n",
    "\n",
    "\n",
    "username=geting_name()\n",
    "greting(username)\n"
   ]
  },
  {
   "cell_type": "code",
   "execution_count": 12,
   "id": "4fe3349f",
   "metadata": {},
   "outputs": [
    {
     "name": "stdout",
     "output_type": "stream",
     "text": [
      "Requirement already satisfied: google in d:\\anaconda3\\lib\\site-packages (3.0.0)\n",
      "Requirement already satisfied: beautifulsoup4 in d:\\anaconda3\\lib\\site-packages (from google) (4.9.3)\n",
      "Requirement already satisfied: soupsieve>1.2 in d:\\anaconda3\\lib\\site-packages (from beautifulsoup4->google) (2.2.1)\n",
      "Note: you may need to restart the kernel to use updated packages.\n"
     ]
    }
   ],
   "source": [
    "pip install google\n"
   ]
  },
  {
   "cell_type": "code",
   "execution_count": null,
   "id": "846baaa4",
   "metadata": {},
   "outputs": [],
   "source": []
  },
  {
   "cell_type": "code",
   "execution_count": null,
   "id": "81728500",
   "metadata": {},
   "outputs": [],
   "source": []
  }
 ],
 "metadata": {
  "kernelspec": {
   "display_name": "Python 3 (ipykernel)",
   "language": "python",
   "name": "python3"
  },
  "language_info": {
   "codemirror_mode": {
    "name": "ipython",
    "version": 3
   },
   "file_extension": ".py",
   "mimetype": "text/x-python",
   "name": "python",
   "nbconvert_exporter": "python",
   "pygments_lexer": "ipython3",
   "version": "3.9.7"
  }
 },
 "nbformat": 4,
 "nbformat_minor": 5
}
